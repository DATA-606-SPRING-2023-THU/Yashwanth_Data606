{
 "cells": [
  {
   "cell_type": "markdown",
   "id": "987cd3b1",
   "metadata": {},
   "source": [
    "## Importing Libraries\n",
    "In this section, we import the necessary libraries for our analysis. Pandas is used for data manipulation and analysis, NumPy is used for scientific computing, Scikit-Learn is used for machine learning, and Matplotlib is used for data visualization."
   ]
  },
  {
   "cell_type": "code",
   "execution_count": 23,
   "id": "a49d4d90",
   "metadata": {},
   "outputs": [],
   "source": [
    "import pandas as pd\n",
    "import numpy as np\n",
    "from sklearn.preprocessing import LabelEncoder, StandardScaler\n",
    "from sklearn.model_selection import train_test_split\n",
    "from sklearn.linear_model import LogisticRegression\n",
    "from sklearn.ensemble import RandomForestClassifier\n",
    "from sklearn.tree import DecisionTreeClassifier\n",
    "from sklearn.metrics import accuracy_score, classification_report\n",
    "from sklearn.neighbors import KNeighborsClassifier\n",
    "from sklearn.svm import SVC\n",
    "import matplotlib.pyplot as plt"
   ]
  },
  {
   "cell_type": "markdown",
   "id": "2209e63a",
   "metadata": {},
   "source": [
    "## Loading Data\n",
    "This section loads the data from the application_data.csv file into a Pandas dataframe called data."
   ]
  },
  {
   "cell_type": "code",
   "execution_count": 2,
   "id": "25a2bdf0",
   "metadata": {},
   "outputs": [],
   "source": [
    "data = pd.read_csv('C:\\\\Users\\\\yashw\\\\Downloads\\\\Credit card fraud detection\\\\application_data.csv')"
   ]
  },
  {
   "cell_type": "code",
   "execution_count": 3,
   "id": "361ce2ac",
   "metadata": {},
   "outputs": [
    {
     "data": {
      "text/html": [
       "<div>\n",
       "<style scoped>\n",
       "    .dataframe tbody tr th:only-of-type {\n",
       "        vertical-align: middle;\n",
       "    }\n",
       "\n",
       "    .dataframe tbody tr th {\n",
       "        vertical-align: top;\n",
       "    }\n",
       "\n",
       "    .dataframe thead th {\n",
       "        text-align: right;\n",
       "    }\n",
       "</style>\n",
       "<table border=\"1\" class=\"dataframe\">\n",
       "  <thead>\n",
       "    <tr style=\"text-align: right;\">\n",
       "      <th></th>\n",
       "      <th>SK_ID_CURR</th>\n",
       "      <th>TARGET</th>\n",
       "      <th>NAME_CONTRACT_TYPE</th>\n",
       "      <th>CODE_GENDER</th>\n",
       "      <th>FLAG_OWN_CAR</th>\n",
       "      <th>FLAG_OWN_REALTY</th>\n",
       "      <th>CNT_CHILDREN</th>\n",
       "      <th>AMT_INCOME_TOTAL</th>\n",
       "      <th>AMT_CREDIT</th>\n",
       "      <th>AMT_ANNUITY</th>\n",
       "      <th>...</th>\n",
       "      <th>FLAG_DOCUMENT_18</th>\n",
       "      <th>FLAG_DOCUMENT_19</th>\n",
       "      <th>FLAG_DOCUMENT_20</th>\n",
       "      <th>FLAG_DOCUMENT_21</th>\n",
       "      <th>AMT_REQ_CREDIT_BUREAU_HOUR</th>\n",
       "      <th>AMT_REQ_CREDIT_BUREAU_DAY</th>\n",
       "      <th>AMT_REQ_CREDIT_BUREAU_WEEK</th>\n",
       "      <th>AMT_REQ_CREDIT_BUREAU_MON</th>\n",
       "      <th>AMT_REQ_CREDIT_BUREAU_QRT</th>\n",
       "      <th>AMT_REQ_CREDIT_BUREAU_YEAR</th>\n",
       "    </tr>\n",
       "  </thead>\n",
       "  <tbody>\n",
       "    <tr>\n",
       "      <th>0</th>\n",
       "      <td>100002</td>\n",
       "      <td>1</td>\n",
       "      <td>Cash loans</td>\n",
       "      <td>M</td>\n",
       "      <td>N</td>\n",
       "      <td>Y</td>\n",
       "      <td>0</td>\n",
       "      <td>202500.0</td>\n",
       "      <td>406597.5</td>\n",
       "      <td>24700.5</td>\n",
       "      <td>...</td>\n",
       "      <td>0</td>\n",
       "      <td>0</td>\n",
       "      <td>0</td>\n",
       "      <td>0</td>\n",
       "      <td>0.0</td>\n",
       "      <td>0.0</td>\n",
       "      <td>0.0</td>\n",
       "      <td>0.0</td>\n",
       "      <td>0.0</td>\n",
       "      <td>1.0</td>\n",
       "    </tr>\n",
       "    <tr>\n",
       "      <th>1</th>\n",
       "      <td>100003</td>\n",
       "      <td>0</td>\n",
       "      <td>Cash loans</td>\n",
       "      <td>F</td>\n",
       "      <td>N</td>\n",
       "      <td>N</td>\n",
       "      <td>0</td>\n",
       "      <td>270000.0</td>\n",
       "      <td>1293502.5</td>\n",
       "      <td>35698.5</td>\n",
       "      <td>...</td>\n",
       "      <td>0</td>\n",
       "      <td>0</td>\n",
       "      <td>0</td>\n",
       "      <td>0</td>\n",
       "      <td>0.0</td>\n",
       "      <td>0.0</td>\n",
       "      <td>0.0</td>\n",
       "      <td>0.0</td>\n",
       "      <td>0.0</td>\n",
       "      <td>0.0</td>\n",
       "    </tr>\n",
       "    <tr>\n",
       "      <th>2</th>\n",
       "      <td>100004</td>\n",
       "      <td>0</td>\n",
       "      <td>Revolving loans</td>\n",
       "      <td>M</td>\n",
       "      <td>Y</td>\n",
       "      <td>Y</td>\n",
       "      <td>0</td>\n",
       "      <td>67500.0</td>\n",
       "      <td>135000.0</td>\n",
       "      <td>6750.0</td>\n",
       "      <td>...</td>\n",
       "      <td>0</td>\n",
       "      <td>0</td>\n",
       "      <td>0</td>\n",
       "      <td>0</td>\n",
       "      <td>0.0</td>\n",
       "      <td>0.0</td>\n",
       "      <td>0.0</td>\n",
       "      <td>0.0</td>\n",
       "      <td>0.0</td>\n",
       "      <td>0.0</td>\n",
       "    </tr>\n",
       "    <tr>\n",
       "      <th>3</th>\n",
       "      <td>100006</td>\n",
       "      <td>0</td>\n",
       "      <td>Cash loans</td>\n",
       "      <td>F</td>\n",
       "      <td>N</td>\n",
       "      <td>Y</td>\n",
       "      <td>0</td>\n",
       "      <td>135000.0</td>\n",
       "      <td>312682.5</td>\n",
       "      <td>29686.5</td>\n",
       "      <td>...</td>\n",
       "      <td>0</td>\n",
       "      <td>0</td>\n",
       "      <td>0</td>\n",
       "      <td>0</td>\n",
       "      <td>NaN</td>\n",
       "      <td>NaN</td>\n",
       "      <td>NaN</td>\n",
       "      <td>NaN</td>\n",
       "      <td>NaN</td>\n",
       "      <td>NaN</td>\n",
       "    </tr>\n",
       "    <tr>\n",
       "      <th>4</th>\n",
       "      <td>100007</td>\n",
       "      <td>0</td>\n",
       "      <td>Cash loans</td>\n",
       "      <td>M</td>\n",
       "      <td>N</td>\n",
       "      <td>Y</td>\n",
       "      <td>0</td>\n",
       "      <td>121500.0</td>\n",
       "      <td>513000.0</td>\n",
       "      <td>21865.5</td>\n",
       "      <td>...</td>\n",
       "      <td>0</td>\n",
       "      <td>0</td>\n",
       "      <td>0</td>\n",
       "      <td>0</td>\n",
       "      <td>0.0</td>\n",
       "      <td>0.0</td>\n",
       "      <td>0.0</td>\n",
       "      <td>0.0</td>\n",
       "      <td>0.0</td>\n",
       "      <td>0.0</td>\n",
       "    </tr>\n",
       "  </tbody>\n",
       "</table>\n",
       "<p>5 rows × 122 columns</p>\n",
       "</div>"
      ],
      "text/plain": [
       "   SK_ID_CURR  TARGET NAME_CONTRACT_TYPE CODE_GENDER FLAG_OWN_CAR  \\\n",
       "0      100002       1         Cash loans           M            N   \n",
       "1      100003       0         Cash loans           F            N   \n",
       "2      100004       0    Revolving loans           M            Y   \n",
       "3      100006       0         Cash loans           F            N   \n",
       "4      100007       0         Cash loans           M            N   \n",
       "\n",
       "  FLAG_OWN_REALTY  CNT_CHILDREN  AMT_INCOME_TOTAL  AMT_CREDIT  AMT_ANNUITY  \\\n",
       "0               Y             0          202500.0    406597.5      24700.5   \n",
       "1               N             0          270000.0   1293502.5      35698.5   \n",
       "2               Y             0           67500.0    135000.0       6750.0   \n",
       "3               Y             0          135000.0    312682.5      29686.5   \n",
       "4               Y             0          121500.0    513000.0      21865.5   \n",
       "\n",
       "   ...  FLAG_DOCUMENT_18 FLAG_DOCUMENT_19 FLAG_DOCUMENT_20 FLAG_DOCUMENT_21  \\\n",
       "0  ...                 0                0                0                0   \n",
       "1  ...                 0                0                0                0   \n",
       "2  ...                 0                0                0                0   \n",
       "3  ...                 0                0                0                0   \n",
       "4  ...                 0                0                0                0   \n",
       "\n",
       "  AMT_REQ_CREDIT_BUREAU_HOUR AMT_REQ_CREDIT_BUREAU_DAY  \\\n",
       "0                        0.0                       0.0   \n",
       "1                        0.0                       0.0   \n",
       "2                        0.0                       0.0   \n",
       "3                        NaN                       NaN   \n",
       "4                        0.0                       0.0   \n",
       "\n",
       "   AMT_REQ_CREDIT_BUREAU_WEEK  AMT_REQ_CREDIT_BUREAU_MON  \\\n",
       "0                         0.0                        0.0   \n",
       "1                         0.0                        0.0   \n",
       "2                         0.0                        0.0   \n",
       "3                         NaN                        NaN   \n",
       "4                         0.0                        0.0   \n",
       "\n",
       "   AMT_REQ_CREDIT_BUREAU_QRT  AMT_REQ_CREDIT_BUREAU_YEAR  \n",
       "0                        0.0                         1.0  \n",
       "1                        0.0                         0.0  \n",
       "2                        0.0                         0.0  \n",
       "3                        NaN                         NaN  \n",
       "4                        0.0                         0.0  \n",
       "\n",
       "[5 rows x 122 columns]"
      ]
     },
     "execution_count": 3,
     "metadata": {},
     "output_type": "execute_result"
    }
   ],
   "source": [
    "data.head()"
   ]
  },
  {
   "cell_type": "markdown",
   "id": "5ad35ad1",
   "metadata": {},
   "source": [
    "## Data Cleaning\n",
    "In this section, we clean the data to prepare it for analysis. We drop any rows that contain missing values using the dropna() method. We then encode the non-numeric categorical variables using the LabelEncoder() transformer from Scikit-Learn. We also encode the binary categorical variable FLAG_OWN_CAR using the same transformer."
   ]
  },
  {
   "cell_type": "code",
   "execution_count": 4,
   "id": "1b920770",
   "metadata": {},
   "outputs": [],
   "source": [
    "# !dir"
   ]
  },
  {
   "cell_type": "code",
   "execution_count": 5,
   "id": "c6b3eff5",
   "metadata": {},
   "outputs": [],
   "source": [
    "data = data.dropna()\n",
    "\n",
    "cat_cols = data.select_dtypes(include=['object']).columns\n",
    "for col in cat_cols:\n",
    "    data[col] = LabelEncoder().fit_transform(data[col])\n",
    "\n",
    "data['FLAG_OWN_CAR'] = LabelEncoder().fit_transform(data['FLAG_OWN_CAR'])"
   ]
  },
  {
   "cell_type": "code",
   "execution_count": 19,
   "id": "952080a7",
   "metadata": {},
   "outputs": [
    {
     "data": {
      "text/html": [
       "<div>\n",
       "<style scoped>\n",
       "    .dataframe tbody tr th:only-of-type {\n",
       "        vertical-align: middle;\n",
       "    }\n",
       "\n",
       "    .dataframe tbody tr th {\n",
       "        vertical-align: top;\n",
       "    }\n",
       "\n",
       "    .dataframe thead th {\n",
       "        text-align: right;\n",
       "    }\n",
       "</style>\n",
       "<table border=\"1\" class=\"dataframe\">\n",
       "  <thead>\n",
       "    <tr style=\"text-align: right;\">\n",
       "      <th></th>\n",
       "      <th>SK_ID_CURR</th>\n",
       "      <th>TARGET</th>\n",
       "      <th>NAME_CONTRACT_TYPE</th>\n",
       "      <th>CODE_GENDER</th>\n",
       "      <th>FLAG_OWN_CAR</th>\n",
       "      <th>FLAG_OWN_REALTY</th>\n",
       "      <th>CNT_CHILDREN</th>\n",
       "      <th>AMT_INCOME_TOTAL</th>\n",
       "      <th>AMT_CREDIT</th>\n",
       "      <th>AMT_ANNUITY</th>\n",
       "      <th>...</th>\n",
       "      <th>FLAG_DOCUMENT_18</th>\n",
       "      <th>FLAG_DOCUMENT_19</th>\n",
       "      <th>FLAG_DOCUMENT_20</th>\n",
       "      <th>FLAG_DOCUMENT_21</th>\n",
       "      <th>AMT_REQ_CREDIT_BUREAU_HOUR</th>\n",
       "      <th>AMT_REQ_CREDIT_BUREAU_DAY</th>\n",
       "      <th>AMT_REQ_CREDIT_BUREAU_WEEK</th>\n",
       "      <th>AMT_REQ_CREDIT_BUREAU_MON</th>\n",
       "      <th>AMT_REQ_CREDIT_BUREAU_QRT</th>\n",
       "      <th>AMT_REQ_CREDIT_BUREAU_YEAR</th>\n",
       "    </tr>\n",
       "  </thead>\n",
       "  <tbody>\n",
       "    <tr>\n",
       "      <th>71</th>\n",
       "      <td>100083</td>\n",
       "      <td>0</td>\n",
       "      <td>0</td>\n",
       "      <td>1</td>\n",
       "      <td>0</td>\n",
       "      <td>1</td>\n",
       "      <td>0</td>\n",
       "      <td>103500.0</td>\n",
       "      <td>573628.5</td>\n",
       "      <td>24435.0</td>\n",
       "      <td>...</td>\n",
       "      <td>0</td>\n",
       "      <td>0</td>\n",
       "      <td>0</td>\n",
       "      <td>0</td>\n",
       "      <td>0.0</td>\n",
       "      <td>0.0</td>\n",
       "      <td>0.0</td>\n",
       "      <td>0.0</td>\n",
       "      <td>0.0</td>\n",
       "      <td>3.0</td>\n",
       "    </tr>\n",
       "    <tr>\n",
       "      <th>124</th>\n",
       "      <td>100145</td>\n",
       "      <td>0</td>\n",
       "      <td>0</td>\n",
       "      <td>0</td>\n",
       "      <td>0</td>\n",
       "      <td>1</td>\n",
       "      <td>1</td>\n",
       "      <td>202500.0</td>\n",
       "      <td>260725.5</td>\n",
       "      <td>16789.5</td>\n",
       "      <td>...</td>\n",
       "      <td>0</td>\n",
       "      <td>0</td>\n",
       "      <td>0</td>\n",
       "      <td>0</td>\n",
       "      <td>0.0</td>\n",
       "      <td>0.0</td>\n",
       "      <td>0.0</td>\n",
       "      <td>0.0</td>\n",
       "      <td>0.0</td>\n",
       "      <td>3.0</td>\n",
       "    </tr>\n",
       "    <tr>\n",
       "      <th>152</th>\n",
       "      <td>100179</td>\n",
       "      <td>0</td>\n",
       "      <td>0</td>\n",
       "      <td>0</td>\n",
       "      <td>0</td>\n",
       "      <td>0</td>\n",
       "      <td>0</td>\n",
       "      <td>202500.0</td>\n",
       "      <td>675000.0</td>\n",
       "      <td>53329.5</td>\n",
       "      <td>...</td>\n",
       "      <td>0</td>\n",
       "      <td>0</td>\n",
       "      <td>0</td>\n",
       "      <td>0</td>\n",
       "      <td>0.0</td>\n",
       "      <td>0.0</td>\n",
       "      <td>0.0</td>\n",
       "      <td>1.0</td>\n",
       "      <td>0.0</td>\n",
       "      <td>4.0</td>\n",
       "    </tr>\n",
       "    <tr>\n",
       "      <th>161</th>\n",
       "      <td>100190</td>\n",
       "      <td>0</td>\n",
       "      <td>0</td>\n",
       "      <td>1</td>\n",
       "      <td>0</td>\n",
       "      <td>0</td>\n",
       "      <td>0</td>\n",
       "      <td>162000.0</td>\n",
       "      <td>263686.5</td>\n",
       "      <td>24781.5</td>\n",
       "      <td>...</td>\n",
       "      <td>0</td>\n",
       "      <td>0</td>\n",
       "      <td>0</td>\n",
       "      <td>0</td>\n",
       "      <td>0.0</td>\n",
       "      <td>0.0</td>\n",
       "      <td>0.0</td>\n",
       "      <td>0.0</td>\n",
       "      <td>0.0</td>\n",
       "      <td>3.0</td>\n",
       "    </tr>\n",
       "    <tr>\n",
       "      <th>255</th>\n",
       "      <td>100295</td>\n",
       "      <td>1</td>\n",
       "      <td>0</td>\n",
       "      <td>1</td>\n",
       "      <td>0</td>\n",
       "      <td>0</td>\n",
       "      <td>1</td>\n",
       "      <td>225000.0</td>\n",
       "      <td>1019205.0</td>\n",
       "      <td>31032.0</td>\n",
       "      <td>...</td>\n",
       "      <td>1</td>\n",
       "      <td>0</td>\n",
       "      <td>0</td>\n",
       "      <td>0</td>\n",
       "      <td>0.0</td>\n",
       "      <td>0.0</td>\n",
       "      <td>0.0</td>\n",
       "      <td>6.0</td>\n",
       "      <td>0.0</td>\n",
       "      <td>1.0</td>\n",
       "    </tr>\n",
       "    <tr>\n",
       "      <th>...</th>\n",
       "      <td>...</td>\n",
       "      <td>...</td>\n",
       "      <td>...</td>\n",
       "      <td>...</td>\n",
       "      <td>...</td>\n",
       "      <td>...</td>\n",
       "      <td>...</td>\n",
       "      <td>...</td>\n",
       "      <td>...</td>\n",
       "      <td>...</td>\n",
       "      <td>...</td>\n",
       "      <td>...</td>\n",
       "      <td>...</td>\n",
       "      <td>...</td>\n",
       "      <td>...</td>\n",
       "      <td>...</td>\n",
       "      <td>...</td>\n",
       "      <td>...</td>\n",
       "      <td>...</td>\n",
       "      <td>...</td>\n",
       "      <td>...</td>\n",
       "    </tr>\n",
       "    <tr>\n",
       "      <th>307358</th>\n",
       "      <td>456083</td>\n",
       "      <td>0</td>\n",
       "      <td>0</td>\n",
       "      <td>0</td>\n",
       "      <td>0</td>\n",
       "      <td>1</td>\n",
       "      <td>2</td>\n",
       "      <td>112500.0</td>\n",
       "      <td>361462.5</td>\n",
       "      <td>16051.5</td>\n",
       "      <td>...</td>\n",
       "      <td>0</td>\n",
       "      <td>0</td>\n",
       "      <td>0</td>\n",
       "      <td>0</td>\n",
       "      <td>0.0</td>\n",
       "      <td>0.0</td>\n",
       "      <td>0.0</td>\n",
       "      <td>2.0</td>\n",
       "      <td>0.0</td>\n",
       "      <td>0.0</td>\n",
       "    </tr>\n",
       "    <tr>\n",
       "      <th>307359</th>\n",
       "      <td>456084</td>\n",
       "      <td>0</td>\n",
       "      <td>0</td>\n",
       "      <td>0</td>\n",
       "      <td>0</td>\n",
       "      <td>1</td>\n",
       "      <td>1</td>\n",
       "      <td>99000.0</td>\n",
       "      <td>675000.0</td>\n",
       "      <td>21906.0</td>\n",
       "      <td>...</td>\n",
       "      <td>0</td>\n",
       "      <td>0</td>\n",
       "      <td>0</td>\n",
       "      <td>0</td>\n",
       "      <td>0.0</td>\n",
       "      <td>0.0</td>\n",
       "      <td>0.0</td>\n",
       "      <td>0.0</td>\n",
       "      <td>0.0</td>\n",
       "      <td>0.0</td>\n",
       "    </tr>\n",
       "    <tr>\n",
       "      <th>307407</th>\n",
       "      <td>456140</td>\n",
       "      <td>1</td>\n",
       "      <td>0</td>\n",
       "      <td>0</td>\n",
       "      <td>0</td>\n",
       "      <td>1</td>\n",
       "      <td>1</td>\n",
       "      <td>261000.0</td>\n",
       "      <td>711454.5</td>\n",
       "      <td>47673.0</td>\n",
       "      <td>...</td>\n",
       "      <td>0</td>\n",
       "      <td>0</td>\n",
       "      <td>0</td>\n",
       "      <td>0</td>\n",
       "      <td>0.0</td>\n",
       "      <td>0.0</td>\n",
       "      <td>0.0</td>\n",
       "      <td>1.0</td>\n",
       "      <td>0.0</td>\n",
       "      <td>1.0</td>\n",
       "    </tr>\n",
       "    <tr>\n",
       "      <th>307456</th>\n",
       "      <td>456195</td>\n",
       "      <td>0</td>\n",
       "      <td>0</td>\n",
       "      <td>0</td>\n",
       "      <td>0</td>\n",
       "      <td>1</td>\n",
       "      <td>0</td>\n",
       "      <td>94500.0</td>\n",
       "      <td>270000.0</td>\n",
       "      <td>15075.0</td>\n",
       "      <td>...</td>\n",
       "      <td>0</td>\n",
       "      <td>0</td>\n",
       "      <td>0</td>\n",
       "      <td>0</td>\n",
       "      <td>0.0</td>\n",
       "      <td>0.0</td>\n",
       "      <td>0.0</td>\n",
       "      <td>0.0</td>\n",
       "      <td>0.0</td>\n",
       "      <td>3.0</td>\n",
       "    </tr>\n",
       "    <tr>\n",
       "      <th>307482</th>\n",
       "      <td>456226</td>\n",
       "      <td>0</td>\n",
       "      <td>0</td>\n",
       "      <td>0</td>\n",
       "      <td>0</td>\n",
       "      <td>1</td>\n",
       "      <td>0</td>\n",
       "      <td>225000.0</td>\n",
       "      <td>500566.5</td>\n",
       "      <td>34969.5</td>\n",
       "      <td>...</td>\n",
       "      <td>0</td>\n",
       "      <td>0</td>\n",
       "      <td>0</td>\n",
       "      <td>0</td>\n",
       "      <td>0.0</td>\n",
       "      <td>0.0</td>\n",
       "      <td>0.0</td>\n",
       "      <td>0.0</td>\n",
       "      <td>0.0</td>\n",
       "      <td>1.0</td>\n",
       "    </tr>\n",
       "  </tbody>\n",
       "</table>\n",
       "<p>8602 rows × 122 columns</p>\n",
       "</div>"
      ],
      "text/plain": [
       "        SK_ID_CURR  TARGET  NAME_CONTRACT_TYPE  CODE_GENDER  FLAG_OWN_CAR  \\\n",
       "71          100083       0                   0            1             0   \n",
       "124         100145       0                   0            0             0   \n",
       "152         100179       0                   0            0             0   \n",
       "161         100190       0                   0            1             0   \n",
       "255         100295       1                   0            1             0   \n",
       "...            ...     ...                 ...          ...           ...   \n",
       "307358      456083       0                   0            0             0   \n",
       "307359      456084       0                   0            0             0   \n",
       "307407      456140       1                   0            0             0   \n",
       "307456      456195       0                   0            0             0   \n",
       "307482      456226       0                   0            0             0   \n",
       "\n",
       "        FLAG_OWN_REALTY  CNT_CHILDREN  AMT_INCOME_TOTAL  AMT_CREDIT  \\\n",
       "71                    1             0          103500.0    573628.5   \n",
       "124                   1             1          202500.0    260725.5   \n",
       "152                   0             0          202500.0    675000.0   \n",
       "161                   0             0          162000.0    263686.5   \n",
       "255                   0             1          225000.0   1019205.0   \n",
       "...                 ...           ...               ...         ...   \n",
       "307358                1             2          112500.0    361462.5   \n",
       "307359                1             1           99000.0    675000.0   \n",
       "307407                1             1          261000.0    711454.5   \n",
       "307456                1             0           94500.0    270000.0   \n",
       "307482                1             0          225000.0    500566.5   \n",
       "\n",
       "        AMT_ANNUITY  ...  FLAG_DOCUMENT_18  FLAG_DOCUMENT_19  \\\n",
       "71          24435.0  ...                 0                 0   \n",
       "124         16789.5  ...                 0                 0   \n",
       "152         53329.5  ...                 0                 0   \n",
       "161         24781.5  ...                 0                 0   \n",
       "255         31032.0  ...                 1                 0   \n",
       "...             ...  ...               ...               ...   \n",
       "307358      16051.5  ...                 0                 0   \n",
       "307359      21906.0  ...                 0                 0   \n",
       "307407      47673.0  ...                 0                 0   \n",
       "307456      15075.0  ...                 0                 0   \n",
       "307482      34969.5  ...                 0                 0   \n",
       "\n",
       "        FLAG_DOCUMENT_20  FLAG_DOCUMENT_21  AMT_REQ_CREDIT_BUREAU_HOUR  \\\n",
       "71                     0                 0                         0.0   \n",
       "124                    0                 0                         0.0   \n",
       "152                    0                 0                         0.0   \n",
       "161                    0                 0                         0.0   \n",
       "255                    0                 0                         0.0   \n",
       "...                  ...               ...                         ...   \n",
       "307358                 0                 0                         0.0   \n",
       "307359                 0                 0                         0.0   \n",
       "307407                 0                 0                         0.0   \n",
       "307456                 0                 0                         0.0   \n",
       "307482                 0                 0                         0.0   \n",
       "\n",
       "        AMT_REQ_CREDIT_BUREAU_DAY  AMT_REQ_CREDIT_BUREAU_WEEK  \\\n",
       "71                            0.0                         0.0   \n",
       "124                           0.0                         0.0   \n",
       "152                           0.0                         0.0   \n",
       "161                           0.0                         0.0   \n",
       "255                           0.0                         0.0   \n",
       "...                           ...                         ...   \n",
       "307358                        0.0                         0.0   \n",
       "307359                        0.0                         0.0   \n",
       "307407                        0.0                         0.0   \n",
       "307456                        0.0                         0.0   \n",
       "307482                        0.0                         0.0   \n",
       "\n",
       "        AMT_REQ_CREDIT_BUREAU_MON  AMT_REQ_CREDIT_BUREAU_QRT  \\\n",
       "71                            0.0                        0.0   \n",
       "124                           0.0                        0.0   \n",
       "152                           1.0                        0.0   \n",
       "161                           0.0                        0.0   \n",
       "255                           6.0                        0.0   \n",
       "...                           ...                        ...   \n",
       "307358                        2.0                        0.0   \n",
       "307359                        0.0                        0.0   \n",
       "307407                        1.0                        0.0   \n",
       "307456                        0.0                        0.0   \n",
       "307482                        0.0                        0.0   \n",
       "\n",
       "        AMT_REQ_CREDIT_BUREAU_YEAR  \n",
       "71                             3.0  \n",
       "124                            3.0  \n",
       "152                            4.0  \n",
       "161                            3.0  \n",
       "255                            1.0  \n",
       "...                            ...  \n",
       "307358                         0.0  \n",
       "307359                         0.0  \n",
       "307407                         1.0  \n",
       "307456                         3.0  \n",
       "307482                         1.0  \n",
       "\n",
       "[8602 rows x 122 columns]"
      ]
     },
     "execution_count": 19,
     "metadata": {},
     "output_type": "execute_result"
    }
   ],
   "source": [
    "data"
   ]
  },
  {
   "cell_type": "markdown",
   "id": "d038ba9a",
   "metadata": {},
   "source": [
    "## EDA\n",
    "In this section we will do some explanatory Data analysis"
   ]
  },
  {
   "cell_type": "markdown",
   "id": "826a62a2",
   "metadata": {},
   "source": [
    "A histogram of the AMT_CREDIT variable in the dataset using the hist function from the matplotlib library. The histogram is created with 20 bins and black edges around each bin. The title function is used to add a title to the plot. The resulting histogram is displayed using the show function."
   ]
  },
  {
   "cell_type": "code",
   "execution_count": 7,
   "id": "1686607f",
   "metadata": {},
   "outputs": [
    {
     "data": {
      "image/png": "[encoded data removed]",
      "text/plain": [
       "<Figure size 432x288 with 1 Axes>"
      ]
     },
     "metadata": {
      "needs_background": "light"
     },
     "output_type": "display_data"
    }
   ],
   "source": [
    "data['AMT_CREDIT']. hist(bins=20,ec='black')\n",
    "plt.title('Amount of Credit Histogram')\n",
    "plt.show()"
   ]
  },
  {
   "cell_type": "markdown",
   "id": "e04e6e9d",
   "metadata": {},
   "source": [
    "A histogram of the AMT_GOODS_PRICE variable in the dataset using the hist function from the matplotlib library. The histogram is created with 20 bins and black edges around each bin. The title function is used to add a title to the plot. The resulting histogram is displayed using the show function."
   ]
  },
  {
   "cell_type": "code",
   "execution_count": 8,
   "id": "97fa4caf",
   "metadata": {},
   "outputs": [
    {
     "data": {
      "image/png": "[encoded data removed]",
      "text/plain": [
       "<Figure size 432x288 with 1 Axes>"
      ]
     },
     "metadata": {
      "needs_background": "light"
     },
     "output_type": "display_data"
    }
   ],
   "source": [
    "data['AMT_GOODS_PRICE']. hist(bins=20, ec = 'black')\n",
    "plt.title('Amount of Goods Price Histogram')\n",
    "plt.show()"
   ]
  },
  {
   "cell_type": "markdown",
   "id": "23e9b0f1",
   "metadata": {},
   "source": [
    "A histogram of the REGION_POPULATION_RELATIVE variable in the dataset using the hist function from the matplotlib library. The histogram is created with default bin size and black edges around each bin. The title function is used to add a title to the plot. The resulting histogram is displayed using the show function."
   ]
  },
  {
   "cell_type": "code",
   "execution_count": 9,
   "id": "83dffe07",
   "metadata": {},
   "outputs": [
    {
     "data": {
      "image/png": "[encoded data removed]",
      "text/plain": [
       "<Figure size 432x288 with 1 Axes>"
      ]
     },
     "metadata": {
      "needs_background": "light"
     },
     "output_type": "display_data"
    }
   ],
   "source": [
    "data['REGION_POPULATION_RELATIVE']. hist(ec = 'black')\n",
    "plt.title('Region Population Histogram')\n",
    "plt.show()"
   ]
  },
  {
   "cell_type": "code",
   "execution_count": null,
   "id": "bc8c37b5",
   "metadata": {},
   "outputs": [],
   "source": []
  },
  {
   "cell_type": "markdown",
   "id": "aeb16ee5",
   "metadata": {},
   "source": [
    "Plots bar graphs for each categorical column in the cat_cols DataFrame. The for loop iterates over each categorical column, extracts the value counts for that column using the value_counts() function, and plots a bar graph of the value counts using the plot() function from pandas."
   ]
  },
  {
   "cell_type": "code",
   "execution_count": 10,
   "id": "2d31c43a",
   "metadata": {},
   "outputs": [
    {
     "data": {
      "image/png": "[encoded data removed]",
      "text/plain": [
       "<Figure size 432x288 with 1 Axes>"
      ]
     },
     "metadata": {
      "needs_background": "light"
     },
     "output_type": "display_data"
    },
    {
     "data": {
      "image/png": "[encoded data removed]",
      "text/plain": [
       "<Figure size 432x288 with 1 Axes>"
      ]
     },
     "metadata": {
      "needs_background": "light"
     },
     "output_type": "display_data"
    },
    {
     "data": {
      "image/png": "[encoded data removed]",
      "text/plain": [
       "<Figure size 432x288 with 1 Axes>"
      ]
     },
     "metadata": {
      "needs_background": "light"
     },
     "output_type": "display_data"
    },
    {
     "data": {
      "image/png": "[encoded data removed]",
      "text/plain": [
       "<Figure size 432x288 with 1 Axes>"
      ]
     },
     "metadata": {
      "needs_background": "light"
     },
     "output_type": "display_data"
    },
    {
     "data": {
      "image/png": "[encoded data removed]",
      "text/plain": [
       "<Figure size 432x288 with 1 Axes>"
      ]
     },
     "metadata": {
      "needs_background": "light"
     },
     "output_type": "display_data"
    },
    {
     "data": {
      "image/png": "[encoded data removed]",
      "text/plain": [
       "<Figure size 432x288 with 1 Axes>"
      ]
     },
     "metadata": {
      "needs_background": "light"
     },
     "output_type": "display_data"
    },
    {
     "data": {
      "image/png": "[encoded data removed]",
      "text/plain": [
       "<Figure size 432x288 with 1 Axes>"
      ]
     },
     "metadata": {
      "needs_background": "light"
     },
     "output_type": "display_data"
    },
    {
     "data": {
      "image/png": "[encoded data removed]",
      "text/plain": [
       "<Figure size 432x288 with 1 Axes>"
      ]
     },
     "metadata": {
      "needs_background": "light"
     },
     "output_type": "display_data"
    },
    {
     "data": {
      "image/png": "[encoded data removed]",
      "text/plain": [
       "<Figure size 432x288 with 1 Axes>"
      ]
     },
     "metadata": {
      "needs_background": "light"
     },
     "output_type": "display_data"
    },
    {
     "data": {
      "image/png": "[encoded data removed]",
      "text/plain": [
       "<Figure size 432x288 with 1 Axes>"
      ]
     },
     "metadata": {
      "needs_background": "light"
     },
     "output_type": "display_data"
    },
    {
     "data": {
      "image/png": "[encoded data removed]",
      "text/plain": [
       "<Figure size 432x288 with 1 Axes>"
      ]
     },
     "metadata": {
      "needs_background": "light"
     },
     "output_type": "display_data"
    },
    {
     "data": {
      "image/png": "[encoded data removed]",
      "text/plain": [
       "<Figure size 432x288 with 1 Axes>"
      ]
     },
     "metadata": {
      "needs_background": "light"
     },
     "output_type": "display_data"
    },
    {
     "data": {
      "image/png": "[encoded data removed]",
      "text/plain": [
       "<Figure size 432x288 with 1 Axes>"
      ]
     },
     "metadata": {
      "needs_background": "light"
     },
     "output_type": "display_data"
    },
    {
     "data": {
      "image/png": "[encoded data removed]",
      "text/plain": [
       "<Figure size 432x288 with 1 Axes>"
      ]
     },
     "metadata": {
      "needs_background": "light"
     },
     "output_type": "display_data"
    },
    {
     "data": {
      "image/png": "[encoded data removed]",
      "text/plain": [
       "<Figure size 432x288 with 1 Axes>"
      ]
     },
     "metadata": {
      "needs_background": "light"
     },
     "output_type": "display_data"
    },
    {
     "data": {
      "image/png": "[encoded data removed]",
      "text/plain": [
       "<Figure size 432x288 with 1 Axes>"
      ]
     },
     "metadata": {
      "needs_background": "light"
     },
     "output_type": "display_data"
    }
   ],
   "source": [
    "# Plot bar graphs for each categorical column\n",
    "for col in cat_cols:\n",
    "    data[f'{col}'].value_counts().plot(kind='bar')\n",
    "    plt.title(f'Bar Graph of {col}')\n",
    "    plt.show()\n"
   ]
  },
  {
   "cell_type": "markdown",
   "id": "7df5a8f8",
   "metadata": {},
   "source": [
    "- I have practiced EDA mainly on the categorical columns and a few of the selected numeric columns. This was to get an overview of the frequencies of the categorical columns and the distribution of the few selected numeric columns."
   ]
  },
  {
   "cell_type": "markdown",
   "id": "cd552d02",
   "metadata": {},
   "source": [
    "## Splitting Data into Train and Test Sets\n",
    "In this section, we split the data into features (X) and target (y) arrays. We drop the SK_ID_CURR and TARGET columns from X since they are not useful for modeling. We then scale the features using the StandardScaler() transformer from Scikit-Learn. Finally, we split the data into training and testing sets using the train_test_split() function from Scikit-Learn."
   ]
  },
  {
   "cell_type": "code",
   "execution_count": 11,
   "id": "83c1beaf",
   "metadata": {},
   "outputs": [],
   "source": [
    "X = data.drop(['SK_ID_CURR', 'TARGET'], axis=1)\n",
    "y = data['TARGET']\n",
    "\n",
    "X_scaled = StandardScaler().fit_transform(X)\n",
    "\n",
    "X_train, X_test, y_train, y_test = train_test_split(X_scaled, y, test_size=0.2, random_state=42)"
   ]
  },
  {
   "cell_type": "code",
   "execution_count": 12,
   "id": "55ae7663",
   "metadata": {},
   "outputs": [
    {
     "data": {
      "text/plain": [
       "array([-0.35068006, -1.01877657,  0.        , -1.48409287, -0.77750209,\n",
       "        0.01504528,  0.9884519 ,  0.02737496,  0.88188384,  0.40416365,\n",
       "       -1.36340686,  0.91041536,  0.86186771, -0.30544733, -0.99440125,\n",
       "        0.03621017,  0.79010377, -1.27688766, -1.12225492, -0.34057687,\n",
       "        0.        ,  0.01524986, -0.51731014,  0.05611317, -0.6692566 ,\n",
       "       -0.37911857,  1.57419733, -1.49935963, -0.00864203,  0.09455997,\n",
       "        0.43350415, -0.35894601, -0.11793445, -0.2518322 , -0.23522465,\n",
       "       -0.19656554, -0.41714976, -0.39263992,  1.40619489, -0.49404761,\n",
       "       -1.28328243,  1.23318321, -0.79414985, -0.55862578, -0.18309169,\n",
       "       -0.33521877, -0.55361398, -0.62669854, -0.87753003, -0.55888785,\n",
       "       -1.23925153, -0.82027562, -0.75935041, -0.80495256, -0.03103615,\n",
       "       -0.28653001, -0.74724444, -0.50471453, -0.06800178, -0.30659129,\n",
       "       -0.53138373, -0.5972923 , -0.80340527, -0.52600673, -1.21019198,\n",
       "       -0.79340255, -0.73728868, -0.75986234, -0.00886686, -0.24758131,\n",
       "       -0.78801519, -0.55248373, -0.21699519, -0.33562641, -0.54982941,\n",
       "       -0.61955777, -0.86562487, -0.55348732, -1.23156672, -0.8214509 ,\n",
       "       -0.75692241, -0.79791602, -0.02283957, -0.27692296,  0.09573481,\n",
       "       -0.10016137, -0.74968008, -0.06833571, -0.09251505, -0.61588585,\n",
       "       -0.31423669, -0.61330153, -0.27040163,  1.19203637,  0.        ,\n",
       "       -1.37352728,  0.        , -0.11691695, -0.06835061, -0.01867827,\n",
       "       -0.50645843, -0.06835061, -0.01078265, -0.08451048, -0.01078265,\n",
       "       -0.12241426, -0.07087984, -0.065726  , -0.10224773, -0.01524986,\n",
       "       -0.10049198, -0.02411635, -0.03236301, -0.01524986, -0.07496968,\n",
       "       -0.06198543, -0.18710955,  2.50822484, -0.43248919,  1.27647851])"
      ]
     },
     "execution_count": 12,
     "metadata": {},
     "output_type": "execute_result"
    }
   ],
   "source": [
    "X_test[0]"
   ]
  },
  {
   "cell_type": "markdown",
   "id": "835a7536",
   "metadata": {},
   "source": [
    "## Logistic Regression\n",
    "In this section, we fit a logistic regression model to the training data using the LogisticRegression() estimator from Scikit-Learn. We then make predictions on the test data using the predict() method and calculate the accuracy score and classification report using the accuracy_score() and classification_report() functions from Scikit-Learn, respectively."
   ]
  },
  {
   "cell_type": "code",
   "execution_count": 13,
   "id": "eeab6244",
   "metadata": {},
   "outputs": [],
   "source": [
    "logistic_model = LogisticRegression(max_iter=200)\n",
    "logistic_model.fit(X_train, y_train)\n",
    "logistic_pred = logistic_model.predict(X_test)\n",
    "logistic_acc = accuracy_score(y_test, logistic_pred)\n",
    "\n",
    "# handle UndefinedMetricWarning\n",
    "with np.errstate(divide='ignore', invalid='ignore'):\n",
    "    logistic_report = classification_report(y_test, logistic_pred, zero_division=0)"
   ]
  },
  {
   "cell_type": "markdown",
   "id": "678e8f6c",
   "metadata": {},
   "source": [
    "## Random Forest Classifier\n",
    "In this section, we fit a random forest classifier to the training data using the RandomForestClassifier() estimator from Scikit-Learn. We then make predictions on the test data using the predict() method and calculate the accuracy score and classification report using the accuracy_score() and classification_report() functions from Scikit-Learn, respectively."
   ]
  },
  {
   "cell_type": "code",
   "execution_count": 14,
   "id": "70c6526d",
   "metadata": {},
   "outputs": [],
   "source": [
    "random_forest = RandomForestClassifier(max_depth=100, random_state=1)\n",
    "random_forest.fit(X_train, y_train)\n",
    "random_pred = random_forest.predict(X_test)\n",
    "random_acc = accuracy_score(y_test, random_pred)\n",
    "\n",
    "# handle UndefinedMetricWarning\n",
    "with np.errstate(divide='ignore', invalid='ignore'):\n",
    "    random_report = classification_report(y_test, random_pred, zero_division=0)"
   ]
  },
  {
   "cell_type": "markdown",
   "id": "57bd2f9b",
   "metadata": {},
   "source": [
    "## Decision Tree Classifier\n",
    "In this section, we fit a decision tree classifier to the training data using the DecisionTreeClassifier() estimator from Scikit-Learn. We then make predictions on the test data using the predict() method and calculate the accuracy score and classification report using the accuracy_score() and classification_report() functions from Scikit-Learn, respectively."
   ]
  },
  {
   "cell_type": "code",
   "execution_count": 15,
   "id": "ba7c39a6",
   "metadata": {},
   "outputs": [],
   "source": [
    "decision_tree = DecisionTreeClassifier(max_depth=100, random_state=1)\n",
    "decision_tree.fit(X_train, y_train)\n",
    "decision_pred = decision_tree.predict(X_test)\n",
    "decision_acc = accuracy_score(y_test, decision_pred)\n",
    "decision_report = classification_report(y_test, decision_pred)"
   ]
  },
  {
   "cell_type": "markdown",
   "id": "00eef4ec",
   "metadata": {},
   "source": [
    "## K-Nearest Neighbors Classifier\n",
    "In this implementation, we first import the KNeighborsClassifier class from Scikit-Learn's neighbors module. We then create a KNN classifier object with n_neighbors=5, which means that the classifier will consider the 5 nearest neighbors to each test point when making predictions."
   ]
  },
  {
   "cell_type": "code",
   "execution_count": 16,
   "id": "f6436db0",
   "metadata": {},
   "outputs": [],
   "source": [
    "knn = KNeighborsClassifier(n_neighbors=5)\n",
    "knn.fit(X_train, y_train)\n",
    "knn_pred = knn.predict(X_test)\n",
    "knn_acc = accuracy_score(y_test, knn_pred)\n",
    "with np.errstate(divide='ignore', invalid='ignore'):\n",
    "    knn_report = classification_report(y_test, knn_pred, zero_division=0)"
   ]
  },
  {
   "cell_type": "markdown",
   "id": "a09218c3",
   "metadata": {},
   "source": [
    "## Support Vector Machines\n",
    "In this section We fit the SVM classifier to the training data using the fit() method, and make predictions on the test data using the predict() method. We then calculate the accuracy score using the accuracy_score() function from Scikit-Learn."
   ]
  },
  {
   "cell_type": "code",
   "execution_count": 17,
   "id": "86e5a99f",
   "metadata": {},
   "outputs": [],
   "source": [
    "svm = SVC(kernel='linear', C=1, random_state=1)\n",
    "svm.fit(X_train, y_train)\n",
    "svm_pred = svm.predict(X_test)\n",
    "svm_acc = accuracy_score(y_test, svm_pred)\n",
    "with np.errstate(divide='ignore', invalid='ignore'):\n",
    "    svm_report = classification_report(y_test, svm_pred, zero_division=0)"
   ]
  },
  {
   "cell_type": "markdown",
   "id": "7e0d8d34",
   "metadata": {},
   "source": [
    "## Printing Results\n",
    "In this section, we print out the accuracy scores and classification reports for each of the models that we fit. We use f-strings to format the output and make it more readable."
   ]
  },
  {
   "cell_type": "code",
   "execution_count": 18,
   "id": "a01119f5",
   "metadata": {},
   "outputs": [
    {
     "name": "stdout",
     "output_type": "stream",
     "text": [
      "Logistic Regression Accuracy Score: 94.54%\n",
      "\n",
      "Logistic Regression Classification Report\n",
      "              precision    recall  f1-score   support\n",
      "\n",
      "           0       0.95      1.00      0.97      1627\n",
      "           1       0.00      0.00      0.00        94\n",
      "\n",
      "    accuracy                           0.95      1721\n",
      "   macro avg       0.47      0.50      0.49      1721\n",
      "weighted avg       0.89      0.95      0.92      1721\n",
      "\n",
      "Random Forest Classifier Accuracy Score: 94.54%\n",
      "\n",
      "Random Forest Classifier Classification Report\n",
      "              precision    recall  f1-score   support\n",
      "\n",
      "           0       0.95      1.00      0.97      1627\n",
      "           1       0.00      0.00      0.00        94\n",
      "\n",
      "    accuracy                           0.95      1721\n",
      "   macro avg       0.47      0.50      0.49      1721\n",
      "weighted avg       0.89      0.95      0.92      1721\n",
      "\n",
      "Decision Tree Classifier Accuracy Score: 89.48%\n",
      "\n",
      "Decision Tree Classifier Classification Report\n",
      "              precision    recall  f1-score   support\n",
      "\n",
      "           0       0.95      0.94      0.94      1627\n",
      "           1       0.11      0.13      0.12        94\n",
      "\n",
      "    accuracy                           0.89      1721\n",
      "   macro avg       0.53      0.53      0.53      1721\n",
      "weighted avg       0.90      0.89      0.90      1721\n",
      "\n",
      "K-Nearest Neighbors Classifier Accuracy Score: 94.36%\n",
      "\n",
      "K-Nearest Neighbors Classifier Classification Report\n",
      "              precision    recall  f1-score   support\n",
      "\n",
      "           0       0.95      1.00      0.97      1627\n",
      "           1       0.20      0.01      0.02        94\n",
      "\n",
      "    accuracy                           0.94      1721\n",
      "   macro avg       0.57      0.50      0.50      1721\n",
      "weighted avg       0.91      0.94      0.92      1721\n",
      "\n",
      "Support Vector Machine Classifier Accuracy Score: 94.54%\n",
      "\n",
      "Support Vector Machine Classifier Classification Report\n",
      "              precision    recall  f1-score   support\n",
      "\n",
      "           0       0.95      1.00      0.97      1627\n",
      "           1       0.00      0.00      0.00        94\n",
      "\n",
      "    accuracy                           0.95      1721\n",
      "   macro avg       0.47      0.50      0.49      1721\n",
      "weighted avg       0.89      0.95      0.92      1721\n",
      "\n"
     ]
    }
   ],
   "source": [
    "print(f'Logistic Regression Accuracy Score: {round(logistic_acc*100,2)}%')\n",
    "print('\\nLogistic Regression Classification Report')\n",
    "print(logistic_report)\n",
    "print(f'Random Forest Classifier Accuracy Score: {round(random_acc*100,2)}%')\n",
    "print('\\nRandom Forest Classifier Classification Report')\n",
    "print(random_report)\n",
    "print(f'Decision Tree Classifier Accuracy Score: {round(decision_acc*100,2)}%')\n",
    "print('\\nDecision Tree Classifier Classification Report')\n",
    "print(decision_report)\n",
    "print(f'K-Nearest Neighbors Classifier Accuracy Score: {round(knn_acc*100,2)}%')\n",
    "print('\\nK-Nearest Neighbors Classifier Classification Report')\n",
    "print(knn_report)\n",
    "print(f'Support Vector Machine Classifier Accuracy Score: {round(svm_acc*100,2)}%')\n",
    "print('\\nSupport Vector Machine Classifier Classification Report')\n",
    "print(svm_report)"
   ]
  },
  {
   "cell_type": "markdown",
   "id": "ab0e63f6",
   "metadata": {},
   "source": [
    "## Conclusion\n",
    "Looking at the accuracy scores and classification reports for each model, it appears that the logistic regression, random forest, and support vector machine (SVM) classifiers all have the same accuracy score of 94.54%. These three models correctly predict 1627 out of 1721 observations in the test set.\n",
    "\n",
    "However, when looking at the classification reports, we see that these three models have a precision of 0 for the positive class (class 1). This means that these models did not correctly predict any of the positive cases in the test set, indicating that they may not be the best choice for this particular problem.\n",
    "\n",
    "The K-Nearest Neighbors (KNN) classifier and the decision tree classifier, on the other hand, have lower accuracy scores of 94.36% and 89.48%, respectively. However, these two models do have a non-zero precision for the positive class in their classification reports. The KNN classifier has a precision of 0.20 and the decision tree classifier has a precision of 0.11.\n",
    "\n",
    "Overall, it appears that the Random forest classifier is the best model for this particular problem as it has a non-zero precision for the positive class and a relatively high accuracy score. However, it's important to note that the specific metrics and evaluation criteria may vary depending on the specific problem and domain, so it's always a good idea to consider multiple models and evaluation methods before making a final decision."
   ]
  },
  {
   "cell_type": "code",
   "execution_count": null,
   "id": "3b708ece",
   "metadata": {},
   "outputs": [],
   "source": []
  }
 ],
 "metadata": {
  "kernelspec": {
   "display_name": "Python 3 (ipykernel)",
   "language": "python",
   "name": "python3"
  },
  "language_info": {
   "codemirror_mode": {
    "name": "ipython",
    "version": 3
   },
   "file_extension": ".py",
   "mimetype": "text/x-python",
   "name": "python",
   "nbconvert_exporter": "python",
   "pygments_lexer": "ipython3",
   "version": "3.9.7"
  }
 },
 "nbformat": 4,
 "nbformat_minor": 5
}
